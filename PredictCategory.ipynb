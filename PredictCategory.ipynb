{
 "cells": [
  {
   "cell_type": "code",
   "execution_count": 1,
   "metadata": {},
   "outputs": [],
   "source": [
    "import pandas as pd\n",
    "import numpy as np\n",
    "from sklearn.model_selection import train_test_split\n",
    "from sklearn.pipeline import Pipeline\n",
    "from sklearn.feature_extraction.text import TfidfVectorizer\n",
    "from sklearn.naive_bayes import MultinomialNB, ComplementNB\n",
    "from sklearn.svm import LinearSVC\n",
    "from sklearn.metrics import accuracy_score, classification_report"
   ]
  },
  {
   "cell_type": "code",
   "execution_count": 2,
   "metadata": {},
   "outputs": [
    {
     "name": "stderr",
     "output_type": "stream",
     "text": [
      "/Users/jamesgibbins/opt/anaconda3/lib/python3.8/site-packages/openpyxl/worksheet/_read_only.py:79: UserWarning: Data Validation extension is not supported and will be removed\n",
      "  for idx, row in parser.parse():\n"
     ]
    },
    {
     "data": {
      "text/html": [
       "<div>\n",
       "<style scoped>\n",
       "    .dataframe tbody tr th:only-of-type {\n",
       "        vertical-align: middle;\n",
       "    }\n",
       "\n",
       "    .dataframe tbody tr th {\n",
       "        vertical-align: top;\n",
       "    }\n",
       "\n",
       "    .dataframe thead th {\n",
       "        text-align: right;\n",
       "    }\n",
       "</style>\n",
       "<table border=\"1\" class=\"dataframe\">\n",
       "  <thead>\n",
       "    <tr style=\"text-align: right;\">\n",
       "      <th></th>\n",
       "      <th>Unnamed: 0</th>\n",
       "      <th>Date</th>\n",
       "      <th>Category</th>\n",
       "      <th>Area</th>\n",
       "      <th>Title</th>\n",
       "      <th>Summary</th>\n",
       "      <th>Change</th>\n",
       "      <th>Link</th>\n",
       "      <th>UTC Date</th>\n",
       "    </tr>\n",
       "  </thead>\n",
       "  <tbody>\n",
       "    <tr>\n",
       "      <th>0</th>\n",
       "      <td>0</td>\n",
       "      <td>2023-12-28 15:05:45</td>\n",
       "      <td>Guidance</td>\n",
       "      <td>Asylum</td>\n",
       "      <td>Asylum screening and routing: caseworker guida...</td>\n",
       "      <td>Immigration staff guidance on registering asyl...</td>\n",
       "      <td>Screening and routing document updated to refl...</td>\n",
       "      <td>https://www.gov.uk/government/publications/asy...</td>\n",
       "      <td>2023-12-28 15:05:45+00:00</td>\n",
       "    </tr>\n",
       "    <tr>\n",
       "      <th>1</th>\n",
       "      <td>1</td>\n",
       "      <td>2023-12-28 00:02:08</td>\n",
       "      <td>Information Notice</td>\n",
       "      <td>Entry Clearance</td>\n",
       "      <td>Visiting the UK as an EU, EEA or Swiss citizen</td>\n",
       "      <td>What you need to know about crossing the UK bo...</td>\n",
       "      <td>Updated the section on school travellers with ...</td>\n",
       "      <td>https://www.gov.uk/guidance/visiting-the-uk-as...</td>\n",
       "      <td>2023-12-28 00:02:08+00:00</td>\n",
       "    </tr>\n",
       "    <tr>\n",
       "      <th>2</th>\n",
       "      <td>2</td>\n",
       "      <td>2023-12-28 00:01:42</td>\n",
       "      <td>Guidance</td>\n",
       "      <td>Entry Clearance</td>\n",
       "      <td>Lapsing leave and returning residents: casewor...</td>\n",
       "      <td>Immigration staff guidance on processing retur...</td>\n",
       "      <td>Guidance renamed from Returning residents. Upd...</td>\n",
       "      <td>https://www.gov.uk/government/publications/ret...</td>\n",
       "      <td>2023-12-28 00:01:42+00:00</td>\n",
       "    </tr>\n",
       "    <tr>\n",
       "      <th>3</th>\n",
       "      <td>3</td>\n",
       "      <td>2023-12-28 00:01:48</td>\n",
       "      <td>Information Notice</td>\n",
       "      <td>Entry Clearance</td>\n",
       "      <td>Visit the UK as part of a French school trip</td>\n",
       "      <td>The France-UK school trip travel information f...</td>\n",
       "      <td>First published._x000D_\\n_x000D_\\n</td>\n",
       "      <td>https://www.gov.uk/guidance/visit-the-uk-as-pa...</td>\n",
       "      <td>2023-12-28 00:01:48+00:00</td>\n",
       "    </tr>\n",
       "    <tr>\n",
       "      <th>4</th>\n",
       "      <td>4</td>\n",
       "      <td>2023-12-27 18:00:23</td>\n",
       "      <td>Lists</td>\n",
       "      <td>English language tests</td>\n",
       "      <td>Prove your English language abilities with a s...</td>\n",
       "      <td>For visa or citizenship applications, you may ...</td>\n",
       "      <td>Lists of approved test centres inside and outs...</td>\n",
       "      <td>https://www.gov.uk/guidance/prove-your-english...</td>\n",
       "      <td>2023-12-27 18:00:23+00:00</td>\n",
       "    </tr>\n",
       "  </tbody>\n",
       "</table>\n",
       "</div>"
      ],
      "text/plain": [
       "   Unnamed: 0                Date            Category  \\\n",
       "0           0 2023-12-28 15:05:45            Guidance   \n",
       "1           1 2023-12-28 00:02:08  Information Notice   \n",
       "2           2 2023-12-28 00:01:42            Guidance   \n",
       "3           3 2023-12-28 00:01:48  Information Notice   \n",
       "4           4 2023-12-27 18:00:23               Lists   \n",
       "\n",
       "                      Area                                              Title  \\\n",
       "0                   Asylum  Asylum screening and routing: caseworker guida...   \n",
       "1          Entry Clearance    Visiting the UK as an EU, EEA or Swiss citizen    \n",
       "2          Entry Clearance  Lapsing leave and returning residents: casewor...   \n",
       "3          Entry Clearance      Visit the UK as part of a French school trip    \n",
       "4  English language tests   Prove your English language abilities with a s...   \n",
       "\n",
       "                                             Summary  \\\n",
       "0  Immigration staff guidance on registering asyl...   \n",
       "1  What you need to know about crossing the UK bo...   \n",
       "2  Immigration staff guidance on processing retur...   \n",
       "3  The France-UK school trip travel information f...   \n",
       "4  For visa or citizenship applications, you may ...   \n",
       "\n",
       "                                              Change  \\\n",
       "0  Screening and routing document updated to refl...   \n",
       "1  Updated the section on school travellers with ...   \n",
       "2  Guidance renamed from Returning residents. Upd...   \n",
       "3                 First published._x000D_\\n_x000D_\\n   \n",
       "4  Lists of approved test centres inside and outs...   \n",
       "\n",
       "                                                Link  \\\n",
       "0  https://www.gov.uk/government/publications/asy...   \n",
       "1  https://www.gov.uk/guidance/visiting-the-uk-as...   \n",
       "2  https://www.gov.uk/government/publications/ret...   \n",
       "3  https://www.gov.uk/guidance/visit-the-uk-as-pa...   \n",
       "4  https://www.gov.uk/guidance/prove-your-english...   \n",
       "\n",
       "                    UTC Date  \n",
       "0  2023-12-28 15:05:45+00:00  \n",
       "1  2023-12-28 00:02:08+00:00  \n",
       "2  2023-12-28 00:01:42+00:00  \n",
       "3  2023-12-28 00:01:48+00:00  \n",
       "4  2023-12-27 18:00:23+00:00  "
      ]
     },
     "execution_count": 2,
     "metadata": {},
     "output_type": "execute_result"
    }
   ],
   "source": [
    "\"\"\"Setup excel file\"\"\"\n",
    "dfTrain = pd.ExcelFile('2023dataset.xlsx').parse('Email data with defined categor');\n",
    "dfTrain.head()"
   ]
  },
  {
   "cell_type": "code",
   "execution_count": 4,
   "metadata": {},
   "outputs": [],
   "source": [
    "\"\"\"Create a new column that contains the text of multiple columns combined\"\"\"\n",
    "cols = ['Title', 'Summary', 'Change']\n",
    "dfTrain['combined'] = dfTrain[cols].apply(lambda row: ' '.join(row.values.astype(str)),axis=1)"
   ]
  },
  {
   "cell_type": "code",
   "execution_count": 5,
   "metadata": {},
   "outputs": [
    {
     "data": {
      "text/html": [
       "<div>\n",
       "<style scoped>\n",
       "    .dataframe tbody tr th:only-of-type {\n",
       "        vertical-align: middle;\n",
       "    }\n",
       "\n",
       "    .dataframe tbody tr th {\n",
       "        vertical-align: top;\n",
       "    }\n",
       "\n",
       "    .dataframe thead th {\n",
       "        text-align: right;\n",
       "    }\n",
       "</style>\n",
       "<table border=\"1\" class=\"dataframe\">\n",
       "  <thead>\n",
       "    <tr style=\"text-align: right;\">\n",
       "      <th></th>\n",
       "      <th>Unnamed: 0</th>\n",
       "      <th>Date</th>\n",
       "      <th>Category</th>\n",
       "      <th>Area</th>\n",
       "      <th>Title</th>\n",
       "      <th>Summary</th>\n",
       "      <th>Change</th>\n",
       "      <th>Link</th>\n",
       "      <th>UTC Date</th>\n",
       "      <th>combined</th>\n",
       "    </tr>\n",
       "  </thead>\n",
       "  <tbody>\n",
       "    <tr>\n",
       "      <th>0</th>\n",
       "      <td>0</td>\n",
       "      <td>2023-12-28 15:05:45</td>\n",
       "      <td>Guidance</td>\n",
       "      <td>Asylum</td>\n",
       "      <td>Asylum screening and routing: caseworker guida...</td>\n",
       "      <td>Immigration staff guidance on registering asyl...</td>\n",
       "      <td>Screening and routing document updated to refl...</td>\n",
       "      <td>https://www.gov.uk/government/publications/asy...</td>\n",
       "      <td>2023-12-28 15:05:45+00:00</td>\n",
       "      <td>Asylum screening and routing: caseworker guida...</td>\n",
       "    </tr>\n",
       "    <tr>\n",
       "      <th>1</th>\n",
       "      <td>1</td>\n",
       "      <td>2023-12-28 00:02:08</td>\n",
       "      <td>Information Notice</td>\n",
       "      <td>Entry Clearance</td>\n",
       "      <td>Visiting the UK as an EU, EEA or Swiss citizen</td>\n",
       "      <td>What you need to know about crossing the UK bo...</td>\n",
       "      <td>Updated the section on school travellers with ...</td>\n",
       "      <td>https://www.gov.uk/guidance/visiting-the-uk-as...</td>\n",
       "      <td>2023-12-28 00:02:08+00:00</td>\n",
       "      <td>Visiting the UK as an EU, EEA or Swiss citizen...</td>\n",
       "    </tr>\n",
       "    <tr>\n",
       "      <th>2</th>\n",
       "      <td>2</td>\n",
       "      <td>2023-12-28 00:01:42</td>\n",
       "      <td>Guidance</td>\n",
       "      <td>Entry Clearance</td>\n",
       "      <td>Lapsing leave and returning residents: casewor...</td>\n",
       "      <td>Immigration staff guidance on processing retur...</td>\n",
       "      <td>Guidance renamed from Returning residents. Upd...</td>\n",
       "      <td>https://www.gov.uk/government/publications/ret...</td>\n",
       "      <td>2023-12-28 00:01:42+00:00</td>\n",
       "      <td>Lapsing leave and returning residents: casewor...</td>\n",
       "    </tr>\n",
       "    <tr>\n",
       "      <th>3</th>\n",
       "      <td>3</td>\n",
       "      <td>2023-12-28 00:01:48</td>\n",
       "      <td>Information Notice</td>\n",
       "      <td>Entry Clearance</td>\n",
       "      <td>Visit the UK as part of a French school trip</td>\n",
       "      <td>The France-UK school trip travel information f...</td>\n",
       "      <td>First published._x000D_\\n_x000D_\\n</td>\n",
       "      <td>https://www.gov.uk/guidance/visit-the-uk-as-pa...</td>\n",
       "      <td>2023-12-28 00:01:48+00:00</td>\n",
       "      <td>Visit the UK as part of a French school trip  ...</td>\n",
       "    </tr>\n",
       "    <tr>\n",
       "      <th>4</th>\n",
       "      <td>4</td>\n",
       "      <td>2023-12-27 18:00:23</td>\n",
       "      <td>Lists</td>\n",
       "      <td>English language tests</td>\n",
       "      <td>Prove your English language abilities with a s...</td>\n",
       "      <td>For visa or citizenship applications, you may ...</td>\n",
       "      <td>Lists of approved test centres inside and outs...</td>\n",
       "      <td>https://www.gov.uk/guidance/prove-your-english...</td>\n",
       "      <td>2023-12-27 18:00:23+00:00</td>\n",
       "      <td>Prove your English language abilities with a s...</td>\n",
       "    </tr>\n",
       "  </tbody>\n",
       "</table>\n",
       "</div>"
      ],
      "text/plain": [
       "   Unnamed: 0                Date            Category  \\\n",
       "0           0 2023-12-28 15:05:45            Guidance   \n",
       "1           1 2023-12-28 00:02:08  Information Notice   \n",
       "2           2 2023-12-28 00:01:42            Guidance   \n",
       "3           3 2023-12-28 00:01:48  Information Notice   \n",
       "4           4 2023-12-27 18:00:23               Lists   \n",
       "\n",
       "                      Area                                              Title  \\\n",
       "0                   Asylum  Asylum screening and routing: caseworker guida...   \n",
       "1          Entry Clearance    Visiting the UK as an EU, EEA or Swiss citizen    \n",
       "2          Entry Clearance  Lapsing leave and returning residents: casewor...   \n",
       "3          Entry Clearance      Visit the UK as part of a French school trip    \n",
       "4  English language tests   Prove your English language abilities with a s...   \n",
       "\n",
       "                                             Summary  \\\n",
       "0  Immigration staff guidance on registering asyl...   \n",
       "1  What you need to know about crossing the UK bo...   \n",
       "2  Immigration staff guidance on processing retur...   \n",
       "3  The France-UK school trip travel information f...   \n",
       "4  For visa or citizenship applications, you may ...   \n",
       "\n",
       "                                              Change  \\\n",
       "0  Screening and routing document updated to refl...   \n",
       "1  Updated the section on school travellers with ...   \n",
       "2  Guidance renamed from Returning residents. Upd...   \n",
       "3                 First published._x000D_\\n_x000D_\\n   \n",
       "4  Lists of approved test centres inside and outs...   \n",
       "\n",
       "                                                Link  \\\n",
       "0  https://www.gov.uk/government/publications/asy...   \n",
       "1  https://www.gov.uk/guidance/visiting-the-uk-as...   \n",
       "2  https://www.gov.uk/government/publications/ret...   \n",
       "3  https://www.gov.uk/guidance/visit-the-uk-as-pa...   \n",
       "4  https://www.gov.uk/guidance/prove-your-english...   \n",
       "\n",
       "                    UTC Date  \\\n",
       "0  2023-12-28 15:05:45+00:00   \n",
       "1  2023-12-28 00:02:08+00:00   \n",
       "2  2023-12-28 00:01:42+00:00   \n",
       "3  2023-12-28 00:01:48+00:00   \n",
       "4  2023-12-27 18:00:23+00:00   \n",
       "\n",
       "                                            combined  \n",
       "0  Asylum screening and routing: caseworker guida...  \n",
       "1  Visiting the UK as an EU, EEA or Swiss citizen...  \n",
       "2  Lapsing leave and returning residents: casewor...  \n",
       "3  Visit the UK as part of a French school trip  ...  \n",
       "4  Prove your English language abilities with a s...  "
      ]
     },
     "execution_count": 5,
     "metadata": {},
     "output_type": "execute_result"
    }
   ],
   "source": [
    "dfTrain.head()"
   ]
  },
  {
   "cell_type": "code",
   "execution_count": 6,
   "metadata": {},
   "outputs": [],
   "source": [
    "\"\"\"Set the text to be categorised on the X axis and the category/class on the Y axis\"\"\"\n",
    "X = dfTrain['combined']\n",
    "y = dfTrain['Category']"
   ]
  },
  {
   "cell_type": "code",
   "execution_count": 7,
   "metadata": {},
   "outputs": [],
   "source": [
    "\"\"\"Set the test size eg. 0.2 would mean 80% would be used as a sample and 20% tested\"\"\"\n",
    "X_train, X_test, y_train, y_test = train_test_split(X, y, test_size=0.25, random_state=42)"
   ]
  },
  {
   "cell_type": "code",
   "execution_count": 8,
   "metadata": {},
   "outputs": [],
   "source": [
    "\"\"\"Create different classifier Pipelines\"\"\"\n",
    "pipeMNB = Pipeline([\n",
    "('tfidf', TfidfVectorizer()),('clf', MultinomialNB())\n",
    "])\n",
    "pipeCNB = Pipeline([\n",
    "('tfidf', TfidfVectorizer(lowercase = True, ngram_range=(1,3))),('clf',ComplementNB())\n",
    "])\n",
    "pipeSVC = Pipeline([\n",
    "('tfidf', TfidfVectorizer(stop_words='english', lowercase = True, ngram_range=(1,3))),('clf', LinearSVC())\n",
    "])"
   ]
  },
  {
   "cell_type": "code",
   "execution_count": 9,
   "metadata": {},
   "outputs": [
    {
     "name": "stdout",
     "output_type": "stream",
     "text": [
      "Category scores\n",
      "MNB: 0.84\n",
      "CNB: 0.94\n",
      "SVC: 0.95\n"
     ]
    }
   ],
   "source": [
    "print(\"Category scores\")\n",
    "pipeMNB.fit(X_train, y_train)\n",
    "predictMNB = pipeMNB.predict(X_test)\n",
    "print(f\"MNB: {accuracy_score(y_test, predictMNB):.2f}\")\n",
    "pipeCNB.fit(X_train, y_train)\n",
    "predictCNB = pipeCNB.predict(X_test)\n",
    "print(f\"CNB: {accuracy_score(y_test, predictCNB):.2f}\")\n",
    "pipeSVC.fit(X_train, y_train)\n",
    "predictSVC = pipeSVC.predict(X_test)\n",
    "print(f\"SVC: {accuracy_score(y_test, predictSVC):.2f}\")"
   ]
  },
  {
   "cell_type": "code",
   "execution_count": null,
   "metadata": {},
   "outputs": [],
   "source": []
  },
  {
   "cell_type": "code",
   "execution_count": 10,
   "metadata": {},
   "outputs": [
    {
     "ename": "ModuleNotFoundError",
     "evalue": "No module named 'import_ipynb'",
     "output_type": "error",
     "traceback": [
      "\u001b[0;31m---------------------------------------------------------------------------\u001b[0m",
      "\u001b[0;31mModuleNotFoundError\u001b[0m                       Traceback (most recent call last)",
      "Input \u001b[0;32mIn [10]\u001b[0m, in \u001b[0;36m<cell line: 1>\u001b[0;34m()\u001b[0m\n\u001b[0;32m----> 1\u001b[0m \u001b[38;5;28;01mimport\u001b[39;00m \u001b[38;5;21;01mimport_ipynb\u001b[39;00m\n\u001b[1;32m      2\u001b[0m \u001b[38;5;28;01mimport\u001b[39;00m \u001b[38;5;21;01mScrapeEmails\u001b[39;00m\n",
      "\u001b[0;31mModuleNotFoundError\u001b[0m: No module named 'import_ipynb'"
     ]
    }
   ],
   "source": [
    "import import_ipynb\n",
    "import ScrapeEmails"
   ]
  },
  {
   "cell_type": "code",
   "execution_count": null,
   "metadata": {},
   "outputs": [],
   "source": [
    "#Create a new column that contains the text of multiple columns combined\n",
    "\n",
    "cols = ['Title', 'Summary', 'Change']\n",
    "dfNew['combined'] = dfNew[cols].apply(lambda row: ' '.join(row.values.astype(str)),axis=1)"
   ]
  },
  {
   "cell_type": "code",
   "execution_count": null,
   "metadata": {},
   "outputs": [],
   "source": [
    "dfNew.head"
   ]
  },
  {
   "cell_type": "code",
   "execution_count": null,
   "metadata": {},
   "outputs": [],
   "source": [
    "\"\"\"Test CATEGORY with sample text\"\"\"\n",
    "message = \"Civil penalty accreditation scheme for hauliers\"\n",
    "result = pipeSVC.predict([message])\n",
    "print(\"Result: \", result[0])\n",
    "\n",
    "unseen_category = pipeSVC.predict(dfNew['combined'])\n",
    "print(\"Result: \", unseen_category[0:5])"
   ]
  },
  {
   "cell_type": "code",
   "execution_count": null,
   "metadata": {},
   "outputs": [],
   "source": [
    "print(predictSVC.shape)"
   ]
  },
  {
   "cell_type": "code",
   "execution_count": null,
   "metadata": {},
   "outputs": [],
   "source": [
    "update_text = pd.DataFrame(unseen_category)\n",
    "category_pred = pd.DataFrame(dfNew)\n",
    "\n",
    "results_category_unseen = pd.concat([update_text.reset_index(drop='True'), category_pred.reset_index(drop='True')], axis = 1)"
   ]
  },
  {
   "cell_type": "code",
   "execution_count": null,
   "metadata": {},
   "outputs": [],
   "source": [
    "results_category_unseen.head"
   ]
  },
  {
   "cell_type": "code",
   "execution_count": null,
   "metadata": {},
   "outputs": [],
   "source": [
    "results_category_unseen.to_csv(r\"unseen_predictions_data.csv\")"
   ]
  },
  {
   "cell_type": "code",
   "execution_count": 11,
   "metadata": {},
   "outputs": [
    {
     "name": "stdout",
     "output_type": "stream",
     "text": [
      "                    precision    recall  f1-score   support\n",
      "\n",
      "              CPIN       1.00      1.00      1.00        12\n",
      "  Code of Practice       0.00      0.00      0.00         1\n",
      "              Data       1.00      0.93      0.96        29\n",
      "             Forms       0.90      1.00      0.95         9\n",
      "          Guidance       0.97      0.94      0.95        95\n",
      "Information Notice       0.80      0.95      0.87        39\n",
      " Inspectors Report       1.00      1.00      1.00         2\n",
      "             Lists       1.00      0.95      0.98        43\n",
      "             Other       1.00      1.00      1.00         1\n",
      "             Rules       1.00      1.00      1.00         7\n",
      "      Test Clinics       1.00      1.00      1.00        14\n",
      "\n",
      "          accuracy                           0.95       252\n",
      "         macro avg       0.88      0.89      0.88       252\n",
      "      weighted avg       0.95      0.95      0.95       252\n",
      "\n"
     ]
    },
    {
     "name": "stderr",
     "output_type": "stream",
     "text": [
      "/Users/jamesgibbins/opt/anaconda3/lib/python3.8/site-packages/sklearn/metrics/_classification.py:1327: UndefinedMetricWarning: Precision and F-score are ill-defined and being set to 0.0 in labels with no predicted samples. Use `zero_division` parameter to control this behavior.\n",
      "  _warn_prf(average, modifier, msg_start, len(result))\n",
      "/Users/jamesgibbins/opt/anaconda3/lib/python3.8/site-packages/sklearn/metrics/_classification.py:1327: UndefinedMetricWarning: Precision and F-score are ill-defined and being set to 0.0 in labels with no predicted samples. Use `zero_division` parameter to control this behavior.\n",
      "  _warn_prf(average, modifier, msg_start, len(result))\n",
      "/Users/jamesgibbins/opt/anaconda3/lib/python3.8/site-packages/sklearn/metrics/_classification.py:1327: UndefinedMetricWarning: Precision and F-score are ill-defined and being set to 0.0 in labels with no predicted samples. Use `zero_division` parameter to control this behavior.\n",
      "  _warn_prf(average, modifier, msg_start, len(result))\n"
     ]
    }
   ],
   "source": [
    "#Clasification Report for CATEGORY with SVC\"\"\"\n",
    "\n",
    "print(classification_report(y_test, predictSVC))"
   ]
  },
  {
   "cell_type": "code",
   "execution_count": null,
   "metadata": {},
   "outputs": [],
   "source": []
  }
 ],
 "metadata": {
  "kernelspec": {
   "display_name": "Python 3 (ipykernel)",
   "language": "python",
   "name": "python3"
  },
  "language_info": {
   "codemirror_mode": {
    "name": "ipython",
    "version": 3
   },
   "file_extension": ".py",
   "mimetype": "text/x-python",
   "name": "python",
   "nbconvert_exporter": "python",
   "pygments_lexer": "ipython3",
   "version": "3.8.13"
  }
 },
 "nbformat": 4,
 "nbformat_minor": 2
}
